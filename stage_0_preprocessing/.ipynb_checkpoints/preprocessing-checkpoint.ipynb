{
 "cells": [
  {
   "cell_type": "markdown",
   "id": "65959a61-7624-4d43-a212-538f0a1f0859",
   "metadata": {
    "id": "65959a61-7624-4d43-a212-538f0a1f0859"
   },
   "source": [
    "# Подготовка данных"
   ]
  },
  {
   "cell_type": "markdown",
   "id": "6394cbf3-bba1-47bc-aa56-b2375f83b399",
   "metadata": {},
   "source": [
    "# Скачивание датасетов"
   ]
  },
  {
   "cell_type": "code",
   "execution_count": 28,
   "id": "a34cefa2-ada9-4161-bf31-dae887eec3f6",
   "metadata": {},
   "outputs": [],
   "source": [
    "import requests\n",
    "from pyunpack import Archive\n",
    "from pathlib import Path"
   ]
  },
  {
   "cell_type": "code",
   "execution_count": 29,
   "id": "e77a8366-b0ae-4a44-8d82-e20a0cb90a7f",
   "metadata": {},
   "outputs": [],
   "source": [
    "Path(\"../data/datasets\").mkdir(parents=True, exist_ok=True)"
   ]
  },
  {
   "cell_type": "code",
   "execution_count": 26,
   "id": "f1a515cf-9249-40e2-a0ec-05edc3d1c303",
   "metadata": {},
   "outputs": [
    {
     "data": {
      "text/plain": [
       "53496052"
      ]
     },
     "execution_count": 26,
     "metadata": {},
     "output_type": "execute_result"
    }
   ],
   "source": [
    "archive_url = \"https://drive.google.com/uc?export=download&id=1AGmH9JZfT25ea2XySJVzl_lEh1xLsPBg\"\n",
    "response = requests.get(archive_url)\n",
    "open(\"../data/datasets/sources.7z\", \"wb\").write(response.content)"
   ]
  },
  {
   "cell_type": "code",
   "execution_count": 27,
   "id": "762b182b-ebc6-40bc-b118-2a8d470dc71a",
   "metadata": {},
   "outputs": [],
   "source": [
    "Archive('../data/datasets/sources.7z').extractall(\"../data/datasets\")"
   ]
  },
  {
   "cell_type": "markdown",
   "id": "4b67e8b2-4450-4387-82d2-1ebbb17b7e59",
   "metadata": {
    "id": "4b67e8b2-4450-4387-82d2-1ebbb17b7e59"
   },
   "source": [
    "## Объединяем наши данные: Отзывус, Тьютортоп, Сравнятор"
   ]
  },
  {
   "cell_type": "markdown",
   "id": "d5755d70-e116-40e4-85ba-c941b85a3c52",
   "metadata": {
    "id": "d5755d70-e116-40e4-85ba-c941b85a3c52"
   },
   "source": [
    "### Отзывус"
   ]
  },
  {
   "cell_type": "code",
   "execution_count": 47,
   "id": "7f894050-a826-42b0-a84d-de6916ea6643",
   "metadata": {
    "id": "7f894050-a826-42b0-a84d-de6916ea6643"
   },
   "outputs": [],
   "source": [
    "import pandas as pd\n",
    "import os"
   ]
  },
  {
   "cell_type": "code",
   "execution_count": 48,
   "id": "def242a1-3aad-4d75-8a92-a401c9c96a5a",
   "metadata": {
    "id": "def242a1-3aad-4d75-8a92-a401c9c96a5a",
    "outputId": "2eb3d7a4-2909-4de7-82a7-42b074e06a65"
   },
   "outputs": [],
   "source": [
    "# # LEGACY\n",
    "# # Загрузка данных\n",
    "# otzyvus_df = pd.read_csv(\"../data/datasets/otzyvus.csv\", sep=\";\", index_col=False, low_memory=False)\n",
    "# # Оставляем только текст и оценки\n",
    "# otzyvus_df = otzyvus_df[['text', 'score_usefulness', 'score_complexity', 'score_interesting']]\n",
    "# # Дропаем строки, где текст отстутствует\n",
    "# otzyvus_df = otzyvus_df.dropna()\n",
    "# # Считаем рейтинг как среднее арифметическое оценок\n",
    "# otzyvus_df['rating'] = (otzyvus_df['score_usefulness'] + otzyvus_df['score_interesting']) / 2\n",
    "# # Оставляем только текст и рейтинг\n",
    "# otzyvus_df = otzyvus_df[['text', 'rating']]\n",
    "\n",
    "# Загрузка данных\n",
    "otzyvus_df = pd.read_csv(\"../data/datasets/otzyvus-v2.csv\", sep=\";\", index_col=False, low_memory=False)\n",
    "# Дропаем строки, где текст отстутствует\n",
    "otzyvus_df = otzyvus_df.dropna()"
   ]
  },
  {
   "cell_type": "markdown",
   "id": "0885779b-f449-47a3-a80f-808fba5e2264",
   "metadata": {
    "id": "0885779b-f449-47a3-a80f-808fba5e2264"
   },
   "source": [
    "### Сравнятор"
   ]
  },
  {
   "cell_type": "code",
   "execution_count": 49,
   "id": "6b219b50-6fae-4648-b88c-ce016f400023",
   "metadata": {
    "id": "6b219b50-6fae-4648-b88c-ce016f400023"
   },
   "outputs": [],
   "source": [
    "# Загружаем данные\n",
    "sravnyator_df = pd.read_csv(\"../data/datasets/feedbacks_sravnyator_new.csv\", sep=\",\", index_col=False, low_memory=False)\n",
    "# Объединяем текст из разных колонок в один\n",
    "sravnyator_df['text'] = sravnyator_df['dignities'] + \" \" + sravnyator_df['disadvantages'] + \" \" + sravnyator_df['impressions']\n",
    "# Оставляем только текст\n",
    "sravnyator_df = sravnyator_df[['text']]"
   ]
  },
  {
   "cell_type": "markdown",
   "id": "b2458912-9755-402a-b593-36bc509194b8",
   "metadata": {
    "id": "b2458912-9755-402a-b593-36bc509194b8"
   },
   "source": [
    "### Тьютортоп"
   ]
  },
  {
   "cell_type": "code",
   "execution_count": 50,
   "id": "33db8cb5-e816-459c-8fe4-a55e9d167989",
   "metadata": {
    "id": "33db8cb5-e816-459c-8fe4-a55e9d167989"
   },
   "outputs": [],
   "source": [
    "# Загружаем данные\n",
    "tutortop_df = pd.read_csv(\"../data/datasets/feedback_tutortop.csv\", sep=\",\", index_col=False, low_memory=False)\n",
    "# Оставляем только текст\n",
    "tutortop_df = tutortop_df[['text']]"
   ]
  },
  {
   "cell_type": "markdown",
   "id": "50dec548-c208-46b3-8e93-e9ff513295af",
   "metadata": {
    "id": "50dec548-c208-46b3-8e93-e9ff513295af"
   },
   "source": [
    "### Объединение"
   ]
  },
  {
   "cell_type": "code",
   "execution_count": 51,
   "id": "0ed09919-2daa-4b51-9f1a-e048020084b0",
   "metadata": {
    "id": "0ed09919-2daa-4b51-9f1a-e048020084b0"
   },
   "outputs": [],
   "source": [
    "sravnyator_df[\"rubrics\"] = \"образование_онлайн_курсы;образование_сравнятор\"\n",
    "tutortop_df[\"rubrics\"] = \"образование_онлайн_курсы;образование_тьютортоп\"\n",
    "otzyvus_df[\"rubrics\"] = \"образование_онлайн_курсы;образование_отзывус\"\n",
    "\n",
    "courses_df = pd.concat([otzyvus_df, sravnyator_df, tutortop_df], ignore_index=True)"
   ]
  },
  {
   "cell_type": "markdown",
   "id": "73962c70-0c47-4ab8-a7fd-0e868d3e91db",
   "metadata": {
    "id": "73962c70-0c47-4ab8-a7fd-0e868d3e91db"
   },
   "source": [
    "## Датасет Яндекса"
   ]
  },
  {
   "cell_type": "code",
   "execution_count": 52,
   "id": "5066ea85-9fb2-41ef-b920-3fbc69c9b8a0",
   "metadata": {
    "id": "5066ea85-9fb2-41ef-b920-3fbc69c9b8a0"
   },
   "outputs": [],
   "source": [
    "import time\n",
    "\n",
    "data = {\n",
    "    \"address\": [],\n",
    "    \"name_ru\": [],\n",
    "    \"rubrics\": [],\n",
    "    \"rating\": [],\n",
    "    \"text\": [],\n",
    "}\n",
    "\n",
    "with open('../data/datasets/geo-reviews-dataset-2023.tskv', 'r') as file:\n",
    "    for line in file:\n",
    "        tokens = line.split(u\"\\t\")\n",
    "        flags = {\n",
    "            \"address\": False,\n",
    "            \"name_ru\": False,\n",
    "            \"rubrics\": False,\n",
    "            \"rating\": False,\n",
    "            \"text\": False,\n",
    "        }\n",
    "        for token in tokens:\n",
    "            key_value = token.split(u\"=\")\n",
    "            data[key_value[0]].append(key_value[1])\n",
    "            flags[key_value[0]] = True\n",
    "        for flag, value in flags.items():\n",
    "            if not value:\n",
    "                data[flag].append(None)"
   ]
  },
  {
   "cell_type": "code",
   "execution_count": 53,
   "id": "ed943faf-3efc-44d8-a03b-a3a7fe15c098",
   "metadata": {
    "id": "ed943faf-3efc-44d8-a03b-a3a7fe15c098"
   },
   "outputs": [],
   "source": [
    "# Оставляем только текст и рубрики\n",
    "others_df = pd.DataFrame(data)[['text', 'rubrics']]\n",
    "# \"\\n\" -> \" \"\n",
    "others_df['text'] = others_df['text'].str.replace('\\\\n', ' ')"
   ]
  },
  {
   "cell_type": "markdown",
   "id": "b4ddd8bd-7491-416a-bf68-d629b163cfcd",
   "metadata": {
    "id": "b4ddd8bd-7491-416a-bf68-d629b163cfcd"
   },
   "source": [
    "Наглядно"
   ]
  },
  {
   "cell_type": "code",
   "execution_count": 54,
   "id": "b2aa49fc-1361-489c-8e75-e4cb8bd6e048",
   "metadata": {
    "id": "b2aa49fc-1361-489c-8e75-e4cb8bd6e048",
    "outputId": "3f6fdf91-76ff-40ca-9a0f-4653c002a8aa"
   },
   "outputs": [
    {
     "data": {
      "text/html": [
       "<div>\n",
       "<style scoped>\n",
       "    .dataframe tbody tr th:only-of-type {\n",
       "        vertical-align: middle;\n",
       "    }\n",
       "\n",
       "    .dataframe tbody tr th {\n",
       "        vertical-align: top;\n",
       "    }\n",
       "\n",
       "    .dataframe thead th {\n",
       "        text-align: right;\n",
       "    }\n",
       "</style>\n",
       "<table border=\"1\" class=\"dataframe\">\n",
       "  <thead>\n",
       "    <tr style=\"text-align: right;\">\n",
       "      <th></th>\n",
       "      <th>text</th>\n",
       "      <th>rubrics</th>\n",
       "    </tr>\n",
       "  </thead>\n",
       "  <tbody>\n",
       "    <tr>\n",
       "      <th>0</th>\n",
       "      <td>Был скучноват. Много практики, решение задач п...</td>\n",
       "      <td>образование_онлайн_курсы;образование_отзывус</td>\n",
       "    </tr>\n",
       "    <tr>\n",
       "      <th>1</th>\n",
       "      <td>Первые пол семестра - упражнения всякие сценич...</td>\n",
       "      <td>образование_онлайн_курсы;образование_отзывус</td>\n",
       "    </tr>\n",
       "    <tr>\n",
       "      <th>2</th>\n",
       "      <td>Чисто основы основ 3д моделинга, для тех кто в...</td>\n",
       "      <td>образование_онлайн_курсы;образование_отзывус</td>\n",
       "    </tr>\n",
       "    <tr>\n",
       "      <th>3</th>\n",
       "      <td>Электив просто песня, две презентации за весь ...</td>\n",
       "      <td>образование_онлайн_курсы;образование_отзывус</td>\n",
       "    </tr>\n",
       "    <tr>\n",
       "      <th>4</th>\n",
       "      <td>Прекрасный электив помогающий разобраться в се...</td>\n",
       "      <td>образование_онлайн_курсы;образование_отзывус</td>\n",
       "    </tr>\n",
       "    <tr>\n",
       "      <th>...</th>\n",
       "      <td>...</td>\n",
       "      <td>...</td>\n",
       "    </tr>\n",
       "    <tr>\n",
       "      <th>10646</th>\n",
       "      <td>Достижениями мне еще рано хвастаться. Только д...</td>\n",
       "      <td>образование_онлайн_курсы;образование_тьютортоп</td>\n",
       "    </tr>\n",
       "    <tr>\n",
       "      <th>10647</th>\n",
       "      <td>Прошел уже большую часть курса, брал 2 раза ме...</td>\n",
       "      <td>образование_онлайн_курсы;образование_тьютортоп</td>\n",
       "    </tr>\n",
       "    <tr>\n",
       "      <th>10648</th>\n",
       "      <td>Начал обучение в этом приложении и это полный ...</td>\n",
       "      <td>образование_онлайн_курсы;образование_тьютортоп</td>\n",
       "    </tr>\n",
       "    <tr>\n",
       "      <th>10649</th>\n",
       "      <td>Ребята, всем кто хочет практиковаться - в мире...</td>\n",
       "      <td>образование_онлайн_курсы;образование_тьютортоп</td>\n",
       "    </tr>\n",
       "    <tr>\n",
       "      <th>10650</th>\n",
       "      <td>Это отличный ресурс, если занимаетесь самостоя...</td>\n",
       "      <td>образование_онлайн_курсы;образование_тьютортоп</td>\n",
       "    </tr>\n",
       "  </tbody>\n",
       "</table>\n",
       "<p>10651 rows × 2 columns</p>\n",
       "</div>"
      ],
      "text/plain": [
       "                                                    text  \\\n",
       "0      Был скучноват. Много практики, решение задач п...   \n",
       "1      Первые пол семестра - упражнения всякие сценич...   \n",
       "2      Чисто основы основ 3д моделинга, для тех кто в...   \n",
       "3      Электив просто песня, две презентации за весь ...   \n",
       "4      Прекрасный электив помогающий разобраться в се...   \n",
       "...                                                  ...   \n",
       "10646  Достижениями мне еще рано хвастаться. Только д...   \n",
       "10647  Прошел уже большую часть курса, брал 2 раза ме...   \n",
       "10648  Начал обучение в этом приложении и это полный ...   \n",
       "10649  Ребята, всем кто хочет практиковаться - в мире...   \n",
       "10650  Это отличный ресурс, если занимаетесь самостоя...   \n",
       "\n",
       "                                              rubrics  \n",
       "0        образование_онлайн_курсы;образование_отзывус  \n",
       "1        образование_онлайн_курсы;образование_отзывус  \n",
       "2        образование_онлайн_курсы;образование_отзывус  \n",
       "3        образование_онлайн_курсы;образование_отзывус  \n",
       "4        образование_онлайн_курсы;образование_отзывус  \n",
       "...                                               ...  \n",
       "10646  образование_онлайн_курсы;образование_тьютортоп  \n",
       "10647  образование_онлайн_курсы;образование_тьютортоп  \n",
       "10648  образование_онлайн_курсы;образование_тьютортоп  \n",
       "10649  образование_онлайн_курсы;образование_тьютортоп  \n",
       "10650  образование_онлайн_курсы;образование_тьютортоп  \n",
       "\n",
       "[10651 rows x 2 columns]"
      ]
     },
     "execution_count": 54,
     "metadata": {},
     "output_type": "execute_result"
    }
   ],
   "source": [
    "courses_df"
   ]
  },
  {
   "cell_type": "code",
   "execution_count": 55,
   "id": "f4fadf1f-5b44-471b-9596-4ffc2a752aa4",
   "metadata": {
    "id": "f4fadf1f-5b44-471b-9596-4ffc2a752aa4",
    "outputId": "9cdc08e7-3389-4f16-eb42-102a08c29379"
   },
   "outputs": [
    {
     "data": {
      "text/html": [
       "<div>\n",
       "<style scoped>\n",
       "    .dataframe tbody tr th:only-of-type {\n",
       "        vertical-align: middle;\n",
       "    }\n",
       "\n",
       "    .dataframe tbody tr th {\n",
       "        vertical-align: top;\n",
       "    }\n",
       "\n",
       "    .dataframe thead th {\n",
       "        text-align: right;\n",
       "    }\n",
       "</style>\n",
       "<table border=\"1\" class=\"dataframe\">\n",
       "  <thead>\n",
       "    <tr style=\"text-align: right;\">\n",
       "      <th></th>\n",
       "      <th>text</th>\n",
       "      <th>rubrics</th>\n",
       "    </tr>\n",
       "  </thead>\n",
       "  <tbody>\n",
       "    <tr>\n",
       "      <th>0</th>\n",
       "      <td>Московский квартал 2. Шумно : летом по ночам д...</td>\n",
       "      <td>Жилой комплекс</td>\n",
       "    </tr>\n",
       "    <tr>\n",
       "      <th>1</th>\n",
       "      <td>Замечательная сеть магазинов в общем, хороший ...</td>\n",
       "      <td>Магазин продуктов;Продукты глубокой заморозки;...</td>\n",
       "    </tr>\n",
       "    <tr>\n",
       "      <th>2</th>\n",
       "      <td>Не знаю смутят ли кого-то данные правила, но я...</td>\n",
       "      <td>Фитнес-клуб</td>\n",
       "    </tr>\n",
       "    <tr>\n",
       "      <th>3</th>\n",
       "      <td>Хорошие условия аренды.  Дружелюбный персонал....</td>\n",
       "      <td>Пункт проката;Прокат велосипедов;Сапсёрфинг</td>\n",
       "    </tr>\n",
       "    <tr>\n",
       "      <th>4</th>\n",
       "      <td>Топ мастер Ангелина топ во всех смыслах ) Немн...</td>\n",
       "      <td>Салон красоты;Визажисты, стилисты;Салон бровей...</td>\n",
       "    </tr>\n",
       "    <tr>\n",
       "      <th>...</th>\n",
       "      <td>...</td>\n",
       "      <td>...</td>\n",
       "    </tr>\n",
       "    <tr>\n",
       "      <th>499995</th>\n",
       "      <td>Охрана кривая но добрая, двери не закрываются ...</td>\n",
       "      <td>Железнодорожная станция</td>\n",
       "    </tr>\n",
       "    <tr>\n",
       "      <th>499996</th>\n",
       "      <td>По сравнению со многими современными платформа...</td>\n",
       "      <td>Железнодорожная станция</td>\n",
       "    </tr>\n",
       "    <tr>\n",
       "      <th>499997</th>\n",
       "      <td>Приятная атмосфера, прекрасное вино, волшебная...</td>\n",
       "      <td>Бар, паб</td>\n",
       "    </tr>\n",
       "    <tr>\n",
       "      <th>499998</th>\n",
       "      <td>Был с семьёй 13.06.23 Отличное место. Рекоменд...</td>\n",
       "      <td>Достопримечательность</td>\n",
       "    </tr>\n",
       "    <tr>\n",
       "      <th>499999</th>\n",
       "      <td>Отличные декорации... Вблизи тяп-ляп,а на фото...</td>\n",
       "      <td>Достопримечательность</td>\n",
       "    </tr>\n",
       "  </tbody>\n",
       "</table>\n",
       "<p>500000 rows × 2 columns</p>\n",
       "</div>"
      ],
      "text/plain": [
       "                                                     text  \\\n",
       "0       Московский квартал 2. Шумно : летом по ночам д...   \n",
       "1       Замечательная сеть магазинов в общем, хороший ...   \n",
       "2       Не знаю смутят ли кого-то данные правила, но я...   \n",
       "3       Хорошие условия аренды.  Дружелюбный персонал....   \n",
       "4       Топ мастер Ангелина топ во всех смыслах ) Немн...   \n",
       "...                                                   ...   \n",
       "499995  Охрана кривая но добрая, двери не закрываются ...   \n",
       "499996  По сравнению со многими современными платформа...   \n",
       "499997  Приятная атмосфера, прекрасное вино, волшебная...   \n",
       "499998  Был с семьёй 13.06.23 Отличное место. Рекоменд...   \n",
       "499999  Отличные декорации... Вблизи тяп-ляп,а на фото...   \n",
       "\n",
       "                                                  rubrics  \n",
       "0                                          Жилой комплекс  \n",
       "1       Магазин продуктов;Продукты глубокой заморозки;...  \n",
       "2                                             Фитнес-клуб  \n",
       "3             Пункт проката;Прокат велосипедов;Сапсёрфинг  \n",
       "4       Салон красоты;Визажисты, стилисты;Салон бровей...  \n",
       "...                                                   ...  \n",
       "499995                            Железнодорожная станция  \n",
       "499996                            Железнодорожная станция  \n",
       "499997                                           Бар, паб  \n",
       "499998                              Достопримечательность  \n",
       "499999                              Достопримечательность  \n",
       "\n",
       "[500000 rows x 2 columns]"
      ]
     },
     "execution_count": 55,
     "metadata": {},
     "output_type": "execute_result"
    }
   ],
   "source": [
    "others_df"
   ]
  },
  {
   "cell_type": "markdown",
   "id": "fd5e8052-689d-4fdd-8ecd-bd13cc89bad6",
   "metadata": {
    "id": "fd5e8052-689d-4fdd-8ecd-bd13cc89bad6"
   },
   "source": [
    "## Объединяем наш датасет и датасет Яндекса"
   ]
  },
  {
   "cell_type": "code",
   "execution_count": 56,
   "id": "63e4c6ab-34a6-481c-a89b-b3b30fa150a7",
   "metadata": {
    "id": "63e4c6ab-34a6-481c-a89b-b3b30fa150a7"
   },
   "outputs": [],
   "source": [
    "# Объединяем датасеты\n",
    "all_df = pd.concat([courses_df, others_df], ignore_index=True)"
   ]
  },
  {
   "cell_type": "code",
   "execution_count": 57,
   "id": "849fa5b2-e00c-477a-8763-9c29d1eedadf",
   "metadata": {
    "id": "849fa5b2-e00c-477a-8763-9c29d1eedadf",
    "outputId": "38f328db-d053-46f2-e8dc-246269bd99cb"
   },
   "outputs": [
    {
     "data": {
      "text/html": [
       "<div>\n",
       "<style scoped>\n",
       "    .dataframe tbody tr th:only-of-type {\n",
       "        vertical-align: middle;\n",
       "    }\n",
       "\n",
       "    .dataframe tbody tr th {\n",
       "        vertical-align: top;\n",
       "    }\n",
       "\n",
       "    .dataframe thead th {\n",
       "        text-align: right;\n",
       "    }\n",
       "</style>\n",
       "<table border=\"1\" class=\"dataframe\">\n",
       "  <thead>\n",
       "    <tr style=\"text-align: right;\">\n",
       "      <th></th>\n",
       "      <th>text</th>\n",
       "      <th>rubrics</th>\n",
       "    </tr>\n",
       "  </thead>\n",
       "  <tbody>\n",
       "    <tr>\n",
       "      <th>0</th>\n",
       "      <td>Был скучноват. Много практики, решение задач п...</td>\n",
       "      <td>образование_онлайн_курсы;образование_отзывус</td>\n",
       "    </tr>\n",
       "    <tr>\n",
       "      <th>1</th>\n",
       "      <td>Первые пол семестра - упражнения всякие сценич...</td>\n",
       "      <td>образование_онлайн_курсы;образование_отзывус</td>\n",
       "    </tr>\n",
       "    <tr>\n",
       "      <th>2</th>\n",
       "      <td>Чисто основы основ 3д моделинга, для тех кто в...</td>\n",
       "      <td>образование_онлайн_курсы;образование_отзывус</td>\n",
       "    </tr>\n",
       "    <tr>\n",
       "      <th>3</th>\n",
       "      <td>Электив просто песня, две презентации за весь ...</td>\n",
       "      <td>образование_онлайн_курсы;образование_отзывус</td>\n",
       "    </tr>\n",
       "    <tr>\n",
       "      <th>4</th>\n",
       "      <td>Прекрасный электив помогающий разобраться в се...</td>\n",
       "      <td>образование_онлайн_курсы;образование_отзывус</td>\n",
       "    </tr>\n",
       "    <tr>\n",
       "      <th>...</th>\n",
       "      <td>...</td>\n",
       "      <td>...</td>\n",
       "    </tr>\n",
       "    <tr>\n",
       "      <th>510646</th>\n",
       "      <td>Охрана кривая но добрая, двери не закрываются ...</td>\n",
       "      <td>Железнодорожная станция</td>\n",
       "    </tr>\n",
       "    <tr>\n",
       "      <th>510647</th>\n",
       "      <td>По сравнению со многими современными платформа...</td>\n",
       "      <td>Железнодорожная станция</td>\n",
       "    </tr>\n",
       "    <tr>\n",
       "      <th>510648</th>\n",
       "      <td>Приятная атмосфера, прекрасное вино, волшебная...</td>\n",
       "      <td>Бар, паб</td>\n",
       "    </tr>\n",
       "    <tr>\n",
       "      <th>510649</th>\n",
       "      <td>Был с семьёй 13.06.23 Отличное место. Рекоменд...</td>\n",
       "      <td>Достопримечательность</td>\n",
       "    </tr>\n",
       "    <tr>\n",
       "      <th>510650</th>\n",
       "      <td>Отличные декорации... Вблизи тяп-ляп,а на фото...</td>\n",
       "      <td>Достопримечательность</td>\n",
       "    </tr>\n",
       "  </tbody>\n",
       "</table>\n",
       "<p>510651 rows × 2 columns</p>\n",
       "</div>"
      ],
      "text/plain": [
       "                                                     text  \\\n",
       "0       Был скучноват. Много практики, решение задач п...   \n",
       "1       Первые пол семестра - упражнения всякие сценич...   \n",
       "2       Чисто основы основ 3д моделинга, для тех кто в...   \n",
       "3       Электив просто песня, две презентации за весь ...   \n",
       "4       Прекрасный электив помогающий разобраться в се...   \n",
       "...                                                   ...   \n",
       "510646  Охрана кривая но добрая, двери не закрываются ...   \n",
       "510647  По сравнению со многими современными платформа...   \n",
       "510648  Приятная атмосфера, прекрасное вино, волшебная...   \n",
       "510649  Был с семьёй 13.06.23 Отличное место. Рекоменд...   \n",
       "510650  Отличные декорации... Вблизи тяп-ляп,а на фото...   \n",
       "\n",
       "                                             rubrics  \n",
       "0       образование_онлайн_курсы;образование_отзывус  \n",
       "1       образование_онлайн_курсы;образование_отзывус  \n",
       "2       образование_онлайн_курсы;образование_отзывус  \n",
       "3       образование_онлайн_курсы;образование_отзывус  \n",
       "4       образование_онлайн_курсы;образование_отзывус  \n",
       "...                                              ...  \n",
       "510646                       Железнодорожная станция  \n",
       "510647                       Железнодорожная станция  \n",
       "510648                                      Бар, паб  \n",
       "510649                         Достопримечательность  \n",
       "510650                         Достопримечательность  \n",
       "\n",
       "[510651 rows x 2 columns]"
      ]
     },
     "execution_count": 57,
     "metadata": {},
     "output_type": "execute_result"
    }
   ],
   "source": [
    "all_df"
   ]
  },
  {
   "cell_type": "markdown",
   "id": "1a5d749f-0ece-4088-8a0f-837732168fbb",
   "metadata": {
    "id": "1a5d749f-0ece-4088-8a0f-837732168fbb"
   },
   "source": [
    "# Экспорт данных"
   ]
  },
  {
   "cell_type": "code",
   "execution_count": 58,
   "id": "200c8c06-621c-4add-8a0d-9d267af7f8cb",
   "metadata": {
    "id": "200c8c06-621c-4add-8a0d-9d267af7f8cb"
   },
   "outputs": [],
   "source": [
    "all_df.to_csv(\"../data/datasets/all_dataset.csv\", sep=';', encoding=\"utf-8\")"
   ]
  },
  {
   "cell_type": "code",
   "execution_count": 59,
   "id": "e24b8314-52b9-4609-856c-8a670e24884a",
   "metadata": {
    "id": "e24b8314-52b9-4609-856c-8a670e24884a"
   },
   "outputs": [],
   "source": [
    "courses_df.to_csv(\"../data/datasets/courses_dataset.csv\", sep=';', encoding=\"utf-8\")"
   ]
  },
  {
   "cell_type": "code",
   "execution_count": null,
   "id": "c462aed0-64d5-4325-ae7d-d766393a42b0",
   "metadata": {
    "id": "c462aed0-64d5-4325-ae7d-d766393a42b0"
   },
   "outputs": [],
   "source": []
  }
 ],
 "metadata": {
  "colab": {
   "provenance": []
  },
  "kernelspec": {
   "display_name": "Python 3 (ipykernel)",
   "language": "python",
   "name": "python3"
  },
  "language_info": {
   "codemirror_mode": {
    "name": "ipython",
    "version": 3
   },
   "file_extension": ".py",
   "mimetype": "text/x-python",
   "name": "python",
   "nbconvert_exporter": "python",
   "pygments_lexer": "ipython3",
   "version": "3.10.13"
  }
 },
 "nbformat": 4,
 "nbformat_minor": 5
}
